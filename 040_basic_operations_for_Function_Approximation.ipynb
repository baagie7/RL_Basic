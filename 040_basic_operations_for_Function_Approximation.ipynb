{
 "cells": [
  {
   "cell_type": "markdown",
   "metadata": {},
   "source": [
    "# Deep Neural Network을 이용한 함수 근사에서 필요한 torch basics"
   ]
  },
  {
   "cell_type": "markdown",
   "metadata": {},
   "source": [
    "## Experience Replay\n",
    "```\n",
    "class ExperienceReplay:\n",
    "    #Initialize replay memory D to capacity N\n",
    "    def __init__(self, capacity):\n",
    "        self.capacity = capacity\n",
    "        self.memory = []\n",
    "        self.position = 0\n",
    "        \n",
    "    def push(self, state, action, new_state, reward, done):\n",
    "        transition = (state, action, new_state, reward, done)\n",
    "        \n",
    "        if self.position >= len(self.memory):\n",
    "            self.memory.append(transition)\n",
    "        else:\n",
    "            self.memory[self.position] = transition\n",
    "            \n",
    "        self.position = (self.position + 1) % self.capacity\n",
    "        \n",
    "    def sample(self, batch_size):\n",
    "        return zip(*random.sample(self.memory, batch_size))\n",
    "        \n",
    "    def __len__(self):\n",
    "        return len(self.memory)\n",
    "\n",
    "```"
   ]
  },
  {
   "cell_type": "code",
   "execution_count": 30,
   "metadata": {},
   "outputs": [],
   "source": [
    "import random\n",
    "memory = []\n",
    "\n",
    "def push(state, action, new_state, reward, done):\n",
    "    \n",
    "    transition = (state, action, new_state, reward, done)\n",
    "        \n",
    "    memory.append(transition)\n",
    "        \n",
    "def sample(batch_size):\n",
    "    \n",
    "    return zip(*random.sample(memory, batch_size))"
   ]
  },
  {
   "cell_type": "code",
   "execution_count": 31,
   "metadata": {},
   "outputs": [
    {
     "data": {
      "text/plain": [
       "[([0, 1, 2, 3], 0, 0, 0, False),\n",
       " ([1, 2, 3, 4], 1, 1, 1, False),\n",
       " ([2, 3, 4, 5], 2, 2, 2, False),\n",
       " ([3, 4, 5, 6], 3, 3, 3, False),\n",
       " ([4, 5, 6, 7], 4, 4, 4, False),\n",
       " ([5, 6, 7, 8], 5, 5, 5, False),\n",
       " ([6, 7, 8, 9], 6, 6, 6, False),\n",
       " ([7, 8, 9, 10], 7, 7, 7, False),\n",
       " ([8, 9, 10, 11], 8, 8, 8, False),\n",
       " ([9, 10, 11, 12], 9, 9, 9, False)]"
      ]
     },
     "execution_count": 31,
     "metadata": {},
     "output_type": "execute_result"
    }
   ],
   "source": [
    "for i in range(10):\n",
    "    push([i, i+1, i+2, i+3], i, i, i, False) #(state, action, new_state, reward, done)\n",
    "    \n",
    "memory"
   ]
  },
  {
   "cell_type": "code",
   "execution_count": 37,
   "metadata": {},
   "outputs": [
    {
     "data": {
      "text/plain": [
       "[([1, 2, 3, 4], [7, 8, 9, 10], [0, 1, 2, 3]),\n",
       " (1, 7, 0),\n",
       " (1, 7, 0),\n",
       " (1, 7, 0),\n",
       " (False, False, False)]"
      ]
     },
     "execution_count": 37,
     "metadata": {},
     "output_type": "execute_result"
    }
   ],
   "source": [
    "list(sample(3))"
   ]
  },
  {
   "cell_type": "markdown",
   "metadata": {},
   "source": [
    "## Select Action \n",
    "\n",
    "- state가 4 개의 feature로 구성되고 각 state에서의 action이 2 가지인 MDP의 parametrized state action value function"
   ]
  },
  {
   "cell_type": "code",
   "execution_count": 38,
   "metadata": {},
   "outputs": [],
   "source": [
    "import torch\n",
    "import torch.nn as nn\n",
    "import numpy as np\n",
    "\n",
    "n_inputs = 4  # state feature\n",
    "n_outputs = 2  # action space\n",
    "hidden_layer = 64\n",
    "\n",
    "class NeuralNetwork(nn.Module):\n",
    "    def __init__(self) -> None:\n",
    "        super(NeuralNetwork, self).__init__()\n",
    "        self.linear1 = nn.Linear(n_inputs, hidden_layer)\n",
    "        self.linear2 = nn.Linear(hidden_layer, n_outputs)\n",
    "\n",
    "    def forward(self, x):\n",
    "        a1 = torch.tanh(self.linear1(x))\n",
    "        output = self.linear2(a1)\n",
    "        return output"
   ]
  },
  {
   "cell_type": "markdown",
   "metadata": {},
   "source": [
    "- 입력 : 4 개 feature 로 구성된 state \n",
    "- 출력 : 2 개 action values  \n",
    "\n",
    "- $max_{a'}Q(s', a';\\theta)$"
   ]
  },
  {
   "cell_type": "code",
   "execution_count": 39,
   "metadata": {},
   "outputs": [
    {
     "data": {
      "text/plain": [
       "tensor([-0.0354,  0.2647], grad_fn=<AddBackward0>)"
      ]
     },
     "execution_count": 39,
     "metadata": {},
     "output_type": "execute_result"
    }
   ],
   "source": [
    "Q = NeuralNetwork()\n",
    "action_values = Q(torch.tensor([0.1, 0.2, 0.3, 0.4]))\n",
    "action_values"
   ]
  },
  {
   "cell_type": "code",
   "execution_count": 40,
   "metadata": {},
   "outputs": [
    {
     "data": {
      "text/plain": [
       "1"
      ]
     },
     "execution_count": 40,
     "metadata": {},
     "output_type": "execute_result"
    }
   ],
   "source": [
    "action = torch.argmax(action_values).item() \n",
    "action"
   ]
  },
  {
   "cell_type": "markdown",
   "metadata": {},
   "source": [
    "## Sample random minibatch\n",
    "\n",
    "- batch size : 3"
   ]
  },
  {
   "cell_type": "code",
   "execution_count": 41,
   "metadata": {},
   "outputs": [
    {
     "data": {
      "text/plain": [
       "(tensor([[ 8.,  9., 10., 11.],\n",
       "         [ 2.,  3.,  4.,  5.],\n",
       "         [ 3.,  4.,  5.,  6.]]),\n",
       " tensor([8, 2, 3]),\n",
       " tensor([[8., 2., 3.]]),\n",
       " tensor([0., 0., 0.]))"
      ]
     },
     "execution_count": 41,
     "metadata": {},
     "output_type": "execute_result"
    }
   ],
   "source": [
    "batch_size = 3\n",
    "\n",
    "states, actions, new_states, rewards, dones = sample(batch_size)\n",
    "\n",
    "states = torch.Tensor(states)\n",
    "actions = torch.LongTensor(actions)\n",
    "rewards = torch.Tensor([rewards])\n",
    "dones = torch.Tensor(dones)\n",
    "\n",
    "states, actions, rewards, dones"
   ]
  },
  {
   "cell_type": "markdown",
   "metadata": {},
   "source": [
    "## State-Action Value (q value) - DQN "
   ]
  },
  {
   "cell_type": "code",
   "execution_count": 42,
   "metadata": {},
   "outputs": [
    {
     "name": "stdout",
     "output_type": "stream",
     "text": [
      "tensor([[-0.0114,  0.9470],\n",
      "        [-0.1124,  1.1367],\n",
      "        [-0.0863,  1.1283]])\n"
     ]
    },
    {
     "data": {
      "text/plain": [
       "tensor([0.9470, 1.1367, 1.1283])"
      ]
     },
     "execution_count": 42,
     "metadata": {},
     "output_type": "execute_result"
    }
   ],
   "source": [
    "action_values = Q(states).detach()\n",
    "print(action_values)\n",
    "max_action_values = torch.max(action_values, 1)[0]\n",
    "max_action_values"
   ]
  },
  {
   "cell_type": "markdown",
   "metadata": {},
   "source": [
    "## State-Action Value (q value) - Double DQN"
   ]
  },
  {
   "cell_type": "code",
   "execution_count": 43,
   "metadata": {},
   "outputs": [
    {
     "name": "stdout",
     "output_type": "stream",
     "text": [
      "tensor([[-0.0114,  0.9470],\n",
      "        [-0.1124,  1.1367],\n",
      "        [-0.0863,  1.1283]])\n",
      "tensor([1, 1, 1])\n",
      "tensor([0.9470, 1.1367, 1.1283])\n"
     ]
    }
   ],
   "source": [
    "new_values = Q(states).detach()\n",
    "print(new_values)\n",
    "\n",
    "max_action_indexes = torch.max(new_values, 1)[1]\n",
    "print(max_action_indexes)\n",
    "\n",
    "max_new_state_values = new_values.gather(1, max_action_indexes.unsqueeze(1)).squeeze(1)\n",
    "print(max_new_state_values)"
   ]
  },
  {
   "cell_type": "markdown",
   "metadata": {},
   "source": [
    "## torch.gather\n",
    "\n",
    "- torch.gather 함수 (또는 torch.Tensor.gather)는 다중 인덱스 선택 방법  \n",
    "\n",
    "- 첫 번째 인수 인 input은 요소를 선택하려는 소스 텐서. 두 번째 dim은 수집하려는 차원. 마지막으로 index는 입력을 인덱싱하는 인덱스."
   ]
  },
  {
   "cell_type": "code",
   "execution_count": 44,
   "metadata": {},
   "outputs": [
    {
     "data": {
      "text/plain": [
       "tensor([[-0.0114,  0.9470],\n",
       "        [-0.1124,  1.1367],\n",
       "        [-0.0863,  1.1283]], grad_fn=<AddmmBackward>)"
      ]
     },
     "execution_count": 44,
     "metadata": {},
     "output_type": "execute_result"
    }
   ],
   "source": [
    "q_values = Q(states)\n",
    "q_values"
   ]
  },
  {
   "cell_type": "code",
   "execution_count": 45,
   "metadata": {},
   "outputs": [
    {
     "data": {
      "text/plain": [
       "tensor([[1],\n",
       "        [0],\n",
       "        [1]])"
      ]
     },
     "execution_count": 45,
     "metadata": {},
     "output_type": "execute_result"
    }
   ],
   "source": [
    "action = torch.LongTensor([1, 0, 1]).unsqueeze(1)\n",
    "action"
   ]
  },
  {
   "cell_type": "code",
   "execution_count": 46,
   "metadata": {},
   "outputs": [
    {
     "data": {
      "text/plain": [
       "tensor([[ 0.9470],\n",
       "        [-0.1124],\n",
       "        [ 1.1283]], grad_fn=<GatherBackward>)"
      ]
     },
     "execution_count": 46,
     "metadata": {},
     "output_type": "execute_result"
    }
   ],
   "source": [
    "torch.gather(q_values, 1, action)"
   ]
  },
  {
   "cell_type": "code",
   "execution_count": 47,
   "metadata": {},
   "outputs": [
    {
     "data": {
      "text/plain": [
       "tensor([[ 0.9470],\n",
       "        [-0.1124],\n",
       "        [ 1.1283]], grad_fn=<GatherBackward>)"
      ]
     },
     "execution_count": 47,
     "metadata": {},
     "output_type": "execute_result"
    }
   ],
   "source": [
    "q_values.gather(1, action)"
   ]
  },
  {
   "cell_type": "markdown",
   "metadata": {},
   "source": [
    "## torch.distribution.Categorical\n",
    "\n",
    "- sample method  \n",
    "- log_prob method"
   ]
  },
  {
   "cell_type": "code",
   "execution_count": 48,
   "metadata": {},
   "outputs": [],
   "source": [
    "from torch.distributions import Categorical\n",
    "\n",
    "m = Categorical(torch.tensor([ 0.25, 0.25, 0.25, 0.25 ]))"
   ]
  },
  {
   "cell_type": "code",
   "execution_count": 49,
   "metadata": {},
   "outputs": [
    {
     "name": "stdout",
     "output_type": "stream",
     "text": [
      "tensor(0)\n",
      "tensor(1)\n",
      "tensor(1)\n",
      "tensor(3)\n",
      "tensor(3)\n"
     ]
    }
   ],
   "source": [
    "for _ in range(5):\n",
    "    print(m.sample())  # equal probability of 0, 1, 2, 3"
   ]
  },
  {
   "cell_type": "code",
   "execution_count": 50,
   "metadata": {},
   "outputs": [
    {
     "data": {
      "text/plain": [
       "tensor([0.1574, 0.1607, 0.3504, 0.1863, 0.1453])"
      ]
     },
     "execution_count": 50,
     "metadata": {},
     "output_type": "execute_result"
    }
   ],
   "source": [
    "action_logits = torch.rand(5)\n",
    "action_probs = torch.softmax(action_logits, dim=-1)\n",
    "action_probs"
   ]
  },
  {
   "cell_type": "code",
   "execution_count": 51,
   "metadata": {},
   "outputs": [
    {
     "data": {
      "text/plain": [
       "tensor(1.)"
      ]
     },
     "execution_count": 51,
     "metadata": {},
     "output_type": "execute_result"
    }
   ],
   "source": [
    "action_probs.sum()"
   ]
  },
  {
   "cell_type": "code",
   "execution_count": 52,
   "metadata": {},
   "outputs": [
    {
     "name": "stdout",
     "output_type": "stream",
     "text": [
      "tensor(4)\n",
      "tensor(-1.9293) tensor(-1.9293)\n"
     ]
    }
   ],
   "source": [
    "dist = Categorical(action_probs)\n",
    "action = dist.sample()\n",
    "print(action)\n",
    "print(dist.log_prob(action), torch.log(action_probs[action]))"
   ]
  }
 ],
 "metadata": {
  "kernelspec": {
   "display_name": "Python 3",
   "language": "python",
   "name": "python3"
  },
  "language_info": {
   "codemirror_mode": {
    "name": "ipython",
    "version": 3
   },
   "file_extension": ".py",
   "mimetype": "text/x-python",
   "name": "python",
   "nbconvert_exporter": "python",
   "pygments_lexer": "ipython3",
   "version": "3.7.5"
  }
 },
 "nbformat": 4,
 "nbformat_minor": 4
}
